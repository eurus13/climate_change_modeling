{
  "nbformat": 4,
  "nbformat_minor": 0,
  "metadata": {
    "colab": {
      "name": " Bare Planet Model - Week One",
      "provenance": [],
      "collapsed_sections": []
    },
    "kernelspec": {
      "name": "python3",
      "display_name": "Python 3"
    }
  },
  "cells": [
    {
      "cell_type": "code",
      "metadata": {
        "id": "DROLKOHzl0wi",
        "colab_type": "code",
        "colab": {}
      },
      "source": [
        "import numpy as np\n",
        "import matplotlib.pyplot as plt"
      ],
      "execution_count": 0,
      "outputs": []
    },
    {
      "cell_type": "code",
      "metadata": {
        "id": "jpxRgJflpkIz",
        "colab_type": "code",
        "outputId": "de1488aa-582b-44a3-9083-595e1b56f7fe",
        "colab": {
          "base_uri": "https://localhost:8080/",
          "height": 132
        }
      },
      "source": [
        "'''\n",
        "Goals:\n",
        "\n",
        "Model planetary temperature change through time of a \"naked\" planet as it approaches equilibrium(steady state)\n",
        "\n",
        "\n",
        "\n",
        "inFlux  = Solar Input(Sunlight)        -  L * (1- albedo) / 4\n",
        "outFlux = Blkbdy Radiation (Infrared ) - epsilon * sigma * T^4\n",
        "\n",
        "Planet begins with  initial Temp(groundTempList) of [0.]\n",
        "\n",
        "**Heat capacity** is set by waterDepth. H20 absorbs heat(light)\n",
        "\n",
        "The thicker the layer the more Joules(energy) it takes to raise the temperature.\n",
        "\n",
        "Here the following are defined as:\n",
        "\n",
        "  -Energy Flux is the quanitity that measures the rate of transfer of energy per unit area.\n",
        "  -heatCapacity is the amount of Joules(energy) required to raise m² by 1 Kelvin(K)\n",
        "  -heatContent is the internal energy(heat) of a system (Joules / m²)\n",
        "  \n"
      ],
      "execution_count": 2,
      "outputs": [
        {
          "output_type": "error",
          "ename": "SyntaxError",
          "evalue": "ignored",
          "traceback": [
            "\u001b[0;36m  File \u001b[0;32m\"<ipython-input-2-602f13eec207>\"\u001b[0;36m, line \u001b[0;32m22\u001b[0m\n\u001b[0;31m    \u001b[0m\n\u001b[0m    ^\u001b[0m\n\u001b[0;31mSyntaxError\u001b[0m\u001b[0;31m:\u001b[0m EOF while scanning triple-quoted string literal\n"
          ]
        }
      ]
    },
    {
      "cell_type": "code",
      "metadata": {
        "id": "fiypE_-Ll-Jz",
        "colab_type": "code",
        "colab": {}
      },
      "source": [
        "\n",
        "def energyFluxIn():\n",
        "  hIn = L * (1 - albedo)/4\n",
        "  return hIn \n",
        "\n",
        "def energyFluxOut():\n",
        "  # hIn = L * (1 - albedo)/4\n",
        "  hOut = epsilon * sigma * pow(groundTempList[-1],4)\n",
        "  return hOut #returns tuple (hIn,hOut)\n",
        "  \n",
        "\n",
        "# def heatCapacity():\n",
        "#     # Joules/m² K\n",
        "#     # 4.2e6 Joules\n",
        "#     return waterDepth * 4.2E6    \n",
        "  \n",
        "def heatContent():\n",
        "    #J/m²\n",
        "    return (heatCapacity * groundTempList[-1])\n",
        "    \n",
        "\n"
      ],
      "execution_count": 0,
      "outputs": []
    },
    {
      "cell_type": "code",
      "metadata": {
        "id": "TSwynp7Xn51b",
        "colab_type": "code",
        "colab": {}
      },
      "source": [
        "#____________________________\n",
        "\n",
        "timeList = [0] # years \n",
        "groundTempList = [0.] #Kelvin\n",
        "\n",
        "#________Equation Variablies__________________\n",
        "waterDepth = 4000 #meters\n",
        "\n",
        "L = 1350 #Watts/m^2\n",
        "albedo = 0.3  #reflectivity \n",
        "epsilon = 1    #quality of blackbody radiation \n",
        "sigma = 5.67E-8 #Watts/m^2wo\n",
        "timeStep = 100  #years\n",
        "#________Physics Equations___________________\n",
        "\n",
        "heatCapacity = waterDepth * 4.2E6  # returns heat capacity(J/m² K) based off water depth\n",
        "heatIn = energyFluxIn()\n",
        "heatOut = 0 # assigns energyFlux() return tuple[0] to heatIn, and tuple[1] to heatOut\n",
        "heatContent = heatCapacity * groundTempList[-1]  #returns heat content heatCapacity / ground temp\n",
        " \n",
        " \n",
        "\n"
      ],
      "execution_count": 0,
      "outputs": []
    },
    {
      "cell_type": "code",
      "metadata": {
        "id": "3EDGuxGwn7vU",
        "colab_type": "code",
        "outputId": "6001c9cf-6f6e-44aa-de17-93c2547b82e0",
        "colab": {
          "base_uri": "https://localhost:8080/",
          "height": 282
        }
      },
      "source": [
        "\n",
        "for i in range(0,100):\n",
        "    timeList.append(timeStep + timeList[-1]) # [-1] negative index grabs last item of list, which starts at -.   \n",
        "    heatOut = energyFluxOut()\n",
        "    heatContent = heatContent + (heatIn - heatOut) * timeStep * 3.14e7 # 3.14e7 to scale the tiny numbers\n",
        "    groundTempList.append(heatContent/heatCapacity)\n",
        "\n",
        "# print(groundTempList[-1], heatOut) #comment out matplot lib and activated this print function for automated grader.\n",
        " \n",
        "    \n",
        "plt.plot(timeList,groundTempList)\n",
        "plt.show()\n",
        "\n",
        "\n"
      ],
      "execution_count": 9,
      "outputs": [
        {
          "output_type": "stream",
          "text": [
            "254.06637407730736 236.24999999999994\n"
          ],
          "name": "stdout"
        },
        {
          "output_type": "display_data",
          "data": {
            "image/png": "[encoded data removed]",
            "text/plain": [
              "<Figure size 432x288 with 1 Axes>"
            ]
          },
          "metadata": {
            "tags": []
          }
        }
      ]
    },
    {
      "cell_type": "code",
      "metadata": {
        "id": "3jr3QxDUeADp",
        "colab_type": "code",
        "colab": {}
      },
      "source": [
        ""
      ],
      "execution_count": 0,
      "outputs": []
    },
    {
      "cell_type": "code",
      "metadata": {
        "id": "htBz6wcohIMI",
        "colab_type": "code",
        "outputId": "3b697744-9220-4118-a9f4-a1963477de6c",
        "colab": {
          "base_uri": "https://localhost:8080/",
          "height": 52
        }
      },
      "source": [
        "import numpy as np\n",
        "import matplotlib.pyplot as plt\n",
        "\n",
        "def energyFluxIn():\n",
        "  hIn = L * (1 - albedo)/4\n",
        "  return hIn \n",
        "\n",
        "def energyFluxOut():\n",
        "  # hIn = L * (1 - albedo)/4\n",
        "  hOut = epsilon * sigma * pow(groundTempList[-1],4)\n",
        "  return hOut #returns tuple (hIn,hOut)\n",
        "  \n",
        "\n",
        "# def heatCapacity():\n",
        "#     # Joules/m² K\n",
        "#     # 4.2e6 Joules\n",
        "#     return waterDepth * 4.2E6    \n",
        "  \n",
        "def heatContent():\n",
        "    #J/m²\n",
        "    return (heatCapacity * groundTempList[-1])\n",
        "\n",
        "#____________________________\n",
        "\n",
        "timeList = [0] # years \n",
        "groundTempList = [0.] #Kelvin\n",
        "\n",
        "#________Equation Variablies__________________\n",
        "waterDepth = 4000 #meters\n",
        "\n",
        "L = 1350 #Watts/m^2\n",
        "albedo = 0.3  #reflectivity \n",
        "epsilon = 1    #quality of blackbody radiation \n",
        "sigma = 5.67E-8 #Watts/m^2wo\n",
        "timeStep = 100  #years\n",
        "nSteps = int(input(\"\"))\n",
        "#________Physics Equations___________________\n",
        "\n",
        "heatCapacity = waterDepth * 4.2E6  # returns heat capacity(J/m² K) based off water depth\n",
        "heatIn = energyFluxIn()\n",
        "heatOut = 0 # assigns energyFlux() return tuple[0] to heatIn, and tuple[1] to heatOut\n",
        "heatContent = heatCapacity * groundTempList[-1]  #returns heat content heatCapacity / ground temp\n",
        " \n",
        " \n",
        "    \n",
        "for i in range(0,100):\n",
        "    timeList.append(nSteps + timeList[-1]) # [-1] negative index grabs last item of list, which starts at -.   \n",
        "    heatOut = energyFluxOut()\n",
        "    heatContent = heatContent + (heatIn - heatOut) * nSteps * 3.14e7 # 3.14e7 to scale the tiny numbers\n",
        "    groundTempList.append(heatContent/heatCapacity)\n",
        "\n",
        "print(groundTempList[-1], heatOut)\n",
        "\n",
        "\n"
      ],
      "execution_count": 0,
      "outputs": [
        {
          "output_type": "stream",
          "text": [
            "1\n",
            "44.148395594672785 0.20691681669438677\n"
          ],
          "name": "stdout"
        }
      ]
    },
    {
      "cell_type": "code",
      "metadata": {
        "id": "svunqBNBEaeF",
        "colab_type": "code",
        "colab": {}
      },
      "source": [
        ""
      ],
      "execution_count": 0,
      "outputs": []
    }
  ]
}